{
 "metadata": {
  "language_info": {
   "codemirror_mode": {
    "name": "ipython",
    "version": 3
   },
   "file_extension": ".py",
   "mimetype": "text/x-python",
   "name": "python",
   "nbconvert_exporter": "python",
   "pygments_lexer": "ipython3",
   "version": "3.8.5-final"
  },
  "orig_nbformat": 2,
  "kernelspec": {
   "name": "python3",
   "display_name": "Python 3",
   "language": "python"
  }
 },
 "nbformat": 4,
 "nbformat_minor": 2,
 "cells": [
  {
   "source": [
    "This notebook allows the user to download the source files for r modules from the cran."
   ],
   "cell_type": "markdown",
   "metadata": {}
  },
  {
   "cell_type": "code",
   "execution_count": 1,
   "metadata": {},
   "outputs": [],
   "source": [
    "import requests\n",
    "from bs4 import BeautifulSoup\n",
    "import os"
   ]
  },
  {
   "cell_type": "code",
   "execution_count": 33,
   "metadata": {},
   "outputs": [
    {
     "output_type": "execute_result",
     "data": {
      "text/plain": [
       "('keras', 'factoextra')"
      ]
     },
     "metadata": {},
     "execution_count": 33
    }
   ],
   "source": [
    "pack_list =\"keras\",\"factoextra\",\"EBImage\",\"png\",\"cowplot\",\"ggplot2\",\"abind\",\"dply\",\"plyr\",\"tidyr\",\"stringr\",\"purrr\",\"magrittr\",\"reshape2\",\"foreach\",\"doParallel\",\"rmarkdown\",\"knitr\",\"rjson\"\n",
    "pack_list"
   ]
  },
  {
   "cell_type": "code",
   "execution_count": 34,
   "metadata": {},
   "outputs": [
    {
     "output_type": "stream",
     "name": "stdout",
     "text": [
      "https://cran.r-project.org/web/packages/keras/../../../src/contrib/keras_2.3.0.0.tar.gz\n",
      "keras_2.3.0.0.tar.gz\n",
      "https://cran.r-project.org/web/packages/factoextra/../../../src/contrib/factoextra_1.0.7.tar.gz\n",
      "factoextra_1.0.7.tar.gz\n"
     ]
    }
   ],
   "source": [
    "for p in pack_list:\n",
    "\n",
    "    #get the package full name with version\n",
    "    url = 'https://cran.r-project.org/web/packages/{}'.format(p)\n",
    "    ext = 'tar.gz'\n",
    "\n",
    "    def listFD(url, ext=''):\n",
    "        page = requests.get(url).text\n",
    "        #print(page)\n",
    "        soup = BeautifulSoup(page, 'html.parser')\n",
    "        return [url + '/' + node.get('href') for node in soup.find_all('a') if node.get('href').endswith(ext)]\n",
    "\n",
    "    for file in listFD(url, ext):\n",
    "        #print(file)\n",
    "        fullname = file.rsplit('/', 1)[-1]\n",
    "        print(fullname)\n",
    "\n",
    "    file_url = \"https://cran.r-project.org/src/contrib/{}\".format(fullname)\n",
    "    r = requests.get(file_url)\n",
    "    fullname = file_url.rsplit('/', 1)[-1] \n",
    "    with open(fullname,'wb') as f: \n",
    "        f.write(r.content)"
   ]
  },
  {
   "cell_type": "code",
   "execution_count": 37,
   "metadata": {},
   "outputs": [],
   "source": [
    "\"\"\" This program allows the user to download the source files for r modules from the cran based on the input list.\n",
    "updated on:24JAN2021\n",
    "aiden.dataminer@gmail.com\n",
    "\"\"\"\n",
    "\n",
    "def get_r_packages(pack_list):\n",
    "    for p in pack_list:\n",
    "        #get the package full name with version\n",
    "        url = 'https://cran.r-project.org/web/packages/{}'.format(p)\n",
    "        ext = 'tar.gz'\n",
    "\n",
    "        def listFD(url, ext=''):\n",
    "            page = requests.get(url).text\n",
    "            #print(page)\n",
    "            soup = BeautifulSoup(page, 'html.parser')\n",
    "            return [url + '/' + node.get('href') for node in soup.find_all('a') if node.get('href').endswith(ext)]\n",
    "\n",
    "        for file in listFD(url, ext):\n",
    "            #print(file)\n",
    "            fullname = file.rsplit('/', 1)[-1]\n",
    "            print(fullname)\n",
    "\n",
    "        file_url = \"https://cran.r-project.org/src/contrib/{}\".format(fullname)\n",
    "        r = requests.get(file_url)\n",
    "        fullname = file_url.rsplit('/', 1)[-1] \n",
    "        with open(fullname,'wb') as f: \n",
    "            f.write(r.content)"
   ]
  },
  {
   "cell_type": "code",
   "execution_count": 38,
   "metadata": {},
   "outputs": [
    {
     "output_type": "stream",
     "name": "stdout",
     "text": [
      "keras_2.3.0.0.tar.gz\n",
      "factoextra_1.0.7.tar.gz\n",
      "png_0.1-7.tar.gz\n",
      "cowplot_1.1.1.tar.gz\n",
      "ggplot2_3.3.3.tar.gz\n",
      "abind_1.4-5.tar.gz\n",
      "plyr_1.8.6.tar.gz\n",
      "tidyr_1.1.2.tar.gz\n",
      "stringr_1.4.0.tar.gz\n",
      "purrr_0.3.4.tar.gz\n",
      "magrittr_2.0.1.tar.gz\n",
      "reshape2_1.4.4.tar.gz\n",
      "foreach_1.5.1.tar.gz\n",
      "doParallel_1.0.16.tar.gz\n",
      "rmarkdown_2.6.tar.gz\n",
      "knitr_1.30.tar.gz\n",
      "rjson_0.2.20.tar.gz\n"
     ]
    }
   ],
   "source": [
    "pack_list =\"keras\",\"factoextra\",\"EBImage\",\"png\",\"cowplot\",\"ggplot2\",\"abind\",\"dply\",\"plyr\",\"tidyr\",\"stringr\",\"purrr\",\"magrittr\",\"reshape2\",\"foreach\",\"doParallel\",\"rmarkdown\",\"knitr\",\"rjson\"\n",
    "get_r_packages(pack_list)"
   ]
  },
  {
   "cell_type": "code",
   "execution_count": null,
   "metadata": {},
   "outputs": [],
   "source": []
  }
 ]
}